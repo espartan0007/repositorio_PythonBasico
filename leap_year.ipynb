{
  "nbformat": 4,
  "nbformat_minor": 0,
  "metadata": {
    "colab": {
      "provenance": [],
      "authorship_tag": "ABX9TyN3pvpxZaEBzS8MUb4ob7xH",
      "include_colab_link": true
    },
    "kernelspec": {
      "name": "python3",
      "display_name": "Python 3"
    },
    "language_info": {
      "name": "python"
    }
  },
  "cells": [
    {
      "cell_type": "markdown",
      "metadata": {
        "id": "view-in-github",
        "colab_type": "text"
      },
      "source": [
        "<a href=\"https://colab.research.google.com/github/espartan0007/repositorio_PythonBasico/blob/main/leap_year.ipynb\" target=\"_parent\"><img src=\"https://colab.research.google.com/assets/colab-badge.svg\" alt=\"Open In Colab\"/></a>"
      ]
    },
    {
      "cell_type": "code",
      "execution_count": 1,
      "metadata": {
        "colab": {
          "base_uri": "https://localhost:8080/"
        },
        "id": "Lo310mZb6ab6",
        "outputId": "ec97bcbb-d22c-4e3c-a947-c1f15e6fce9c"
      },
      "outputs": [
        {
          "output_type": "stream",
          "name": "stdout",
          "text": [
            "Enter a year: 2023\n",
            "2023 does not qualify as a leap year\n"
          ]
        }
      ],
      "source": [
        "yearValue = int(input(\"Enter a year: \"))\n",
        "## here, yearValue means the year we want to check.\n",
        "if yearValue % 4 ==0 and yearValue % 100!=0:           ## condition 2\n",
        "    print(yearValue, \"is a leap year\")\n",
        "elif yearValue % 4 ==0 and yearValue % 100==0:         ## condition 3\n",
        "    if yearValue % 400==0:\n",
        "        print(yearValue, \"qualifies as a leap year\")\n",
        "    else:\n",
        "        print(yearValue, \"does not qualify as a leap year\")\n",
        "else:\n",
        "    print(yearValue, \"does not qualify as a leap year\")         ## Condition 1"
      ]
    }
  ]
}